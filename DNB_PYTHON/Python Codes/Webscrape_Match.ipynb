{
 "cells": [
  {
   "cell_type": "code",
   "execution_count": 2,
   "metadata": {},
   "outputs": [],
   "source": [
    "#This is where we import the necessary modules. \n",
    "#If you would like to run this code: Go to your anaconda terminal and type pip install <package name>\n",
    "#No need to import time or random\n",
    "import pandas as pd\n",
    "from tqdm import tqdm\n",
    "import requests \n",
    "from bs4 import BeautifulSoup as BS\n",
    "import re\n",
    "import json\n",
    "import time\n",
    "import random\n",
    "import warnings\n",
    "warnings.filterwarnings('ignore')\n",
    "#This formats the tqdm package for pandas looping (makes the loading bars for the long functions)\n",
    "tqdm.pandas()"
   ]
  },
  {
   "cell_type": "code",
   "execution_count": 3,
   "metadata": {},
   "outputs": [],
   "source": [
    "#Missing Data Read.\n",
    "#This block just reads the code from the G drive and opens the excel file. \n",
    "#!!!!!!!!!!!!!! YOU MAY NEED TO ADJUST THE PATH FOR YOUR PERSONAL MACHINE\n",
    "#FOR NON VPN TESTING:\n",
    "\n",
    "MDF_path=r\"C:\\Users\\khat\\OneDrive - PENNSYLVANIA COMPENSATION RATING BUREAU\\Desktop\\Copy of List_Combined_threshold_0.5_Chunk_10000.csv\"\n",
    "MDF=pd.read_csv(MDF_path)"
   ]
  },
  {
   "cell_type": "code",
   "execution_count": 4,
   "metadata": {},
   "outputs": [
    {
     "data": {
      "text/plain": [
       "(6845, 3)"
      ]
     },
     "execution_count": 4,
     "metadata": {},
     "output_type": "execute_result"
    }
   ],
   "source": [
    "#Just a quick check of the dimensions of the dataset\n",
    "MDF.shape"
   ]
  },
  {
   "cell_type": "code",
   "execution_count": 5,
   "metadata": {},
   "outputs": [],
   "source": [
    "#Helper Functions\n",
    "#General Functions -> See Docustrings (The text under the function name)\n",
    "def parse_business_info(bid):\n",
    "    Name= bid[1]['TITLE']\n",
    "    Name=Name[0]\n",
    "    #Cleaning the ID out of the name\n",
    "    Name= Name.split('(')[0].strip()\n",
    "    IFD= bid[1]['FILING_DATE']\n",
    "    Status=bid[1]['STATUS']\n",
    "    Entity=bid[1]['ENTITY_TYPE']\n",
    "    Formed_in= bid[1]['FORMED_IN']\n",
    "    Address= bid[1]['AGENT']\n",
    "    Stnd=bid[1]['STANDING']\n",
    "    return([Name, Address])\n",
    "\n",
    "#========================== \n",
    "def Choose_Result(response_data):\n",
    "    '''\n",
    "    This function takes as input the response from the Penn Gov website and formats it into a useable result for our code\n",
    "    Input: .json response\n",
    "    Output: A list with two items: Name, Address as given by the PA gov. Returns NA for no results\n",
    "    '''\n",
    "    # Extract rows from the response\n",
    "    rows = response_data.get('rows', {})\n",
    "    Name=pd.NA\n",
    "    Address=pd.NA\n",
    "    count=0\n",
    "    for bid in reversed(rows.items()):\n",
    "        #This count is critical as it helps our code know how many results we have\n",
    "        count+=1\n",
    "        #The below if conditon checks if the status of a result is not equal to 'Active' and will not select it unless it is the only result\n",
    "        if bid[1]['ENTITY_TYPE']== 'Fictitious Name':\n",
    "            if count== len(rows.items()):\n",
    "                return(parse_business_info(bid))\n",
    "            else:\n",
    "                continue\n",
    "        else:\n",
    "            if bid[1]['STATUS'] != 'Active':\n",
    "                if count== len(rows.items()):\n",
    "                    return(parse_business_info(bid))\n",
    "                else:\n",
    "                    continue\n",
    "            else:\n",
    "                return(parse_business_info(bid))\n",
    "            \n",
    "            \n",
    "\n",
    "#============================================\n",
    "def create_cols(DF,index, Opti_List):\n",
    "    '''\n",
    "    This function adds the new columns and populates it with new results\n",
    "    Input: A pandas dataframe, and index (for looping), and a list of new columns to add and populate\n",
    "    Output: The modified DF with the new search columns\n",
    "    '''\n",
    "    new_opt_cols=['Opti_Gov_Name', 'Opti_Gov_Add']\n",
    "    #Check for prescence of new columns\n",
    "    for col_name in new_opt_cols:\n",
    "        if col_name not in DF.columns:\n",
    "            DF[col_name]=pd.NA\n",
    "\n",
    "    if Opti_List != None and len(Opti_List)>=2:\n",
    "        #New Opti\n",
    "        DF.at[index, new_opt_cols[0]]= Opti_List[0]\n",
    "        DF.at[index, new_opt_cols[1]]= Opti_List[1]\n",
    "    else:\n",
    "        DF.at[index, new_opt_cols[0]]= pd.NA\n",
    "        DF.at[index, new_opt_cols[1]]= pd.NA\n",
    "\n",
    "    return(DF)\n",
    "#========================================\n"
   ]
  },
  {
   "cell_type": "code",
   "execution_count": 6,
   "metadata": {},
   "outputs": [],
   "source": [
    "#Biz Search Function for PA\n",
    "\n",
    "user_agents = [\n",
    "    'Mozilla/5.0 (Windows NT 10.0; Win64; x64) AppleWebKit/537.36 (KHTML, like Gecko) Chrome/130.0.0.0 Safari/537.36',\n",
    "    'Mozilla/5.0 (Windows NT 10.0; Win64; x64) AppleWebKit/537.36 (KHTML, like Gecko) Chrome/129.0.0.0 Safari/537.36',\n",
    "    'Mozilla/5.0 (Windows NT 10.0; Win64; x64) AppleWebKit/537.36 (KHTML, like Gecko) Chrome/128.0.0.0 Safari/537.36',\n",
    "    'Mozilla/5.0 (Macintosh; Intel Mac OS X 10_15_7) AppleWebKit/537.36 (KHTML, like Gecko) Chrome/130.0.0.0 Safari/537.36'\n",
    "]\n",
    "\n",
    "def search_biz(bna):      \n",
    "    url = r'https://file.dos.pa.gov/api/Records/businesssearch'\n",
    "   \n",
    "    headers = {\n",
    "        'Accept': '*/*',\n",
    "        'Accept-Encoding': 'gzip, deflate, br, zstd',\n",
    "        'Accept-Language': 'en-US,en;q=0.9',\n",
    "        'Connection': 'keep-alive',\n",
    "        'Content-Type': 'application/json',\n",
    "        'Cookie': 'ASP.NET_SessionId=ck0bgrlxslkvidjnejw22iur',\n",
    "        'Host': 'file.dos.pa.gov',\n",
    "        'Origin': 'https://file.dos.pa.gov',\n",
    "        'Referer': 'https://file.dos.pa.gov/search/business',\n",
    "        'User-Agent': random.choice(user_agents)\n",
    "    }\n",
    "\n",
    "    payload = {\n",
    "        \"SEARCH_VALUE\": bna,\n",
    "        \"SEARCH_FILTER_TYPE_ID\": \"1\",\n",
    "        \"FILING_TYPE_ID\": \"\",\n",
    "        \"STATUS_ID\": \"\",\n",
    "        \"FILING_DATE\": {\"start\": None, \"end\": None}\n",
    "    }\n",
    "\n",
    "    payload_json = json.dumps(payload)\n",
    "    while True:\n",
    "        try:\n",
    "            #time.sleep(random.uniform(1,4))\n",
    "            response = requests.post(url, headers=headers, data=payload_json)\n",
    "            if response.status_code == 200:\n",
    "                data = response.json()\n",
    "                return Choose_Result(data)\n",
    "            if response.status_code==403:\n",
    "                time.sleep(8)\n",
    "            else:\n",
    "                return None\n",
    "        except json.JSONDecodeError:\n",
    "            print(\"Failed to parse JSON response.\")\n",
    "            return None\n",
    "        except requests.RequestException as e:\n",
    "            print(f\"Request failed: {e}\")\n",
    "            return(None)\n",
    "        \n"
   ]
  },
  {
   "cell_type": "code",
   "execution_count": 7,
   "metadata": {},
   "outputs": [],
   "source": [
    "def ME(DF):\n",
    "    '''\n",
    "    This is the function that loops through a subDataframe and runs the above functions on each row, adding new columns and match data.\n",
    "    Input: A dataframe\n",
    "    Output: A dataframe with new rows and values\n",
    "    '''\n",
    "    for index, row in tqdm(DF.iterrows(), total=DF.shape[0], desc=\"Matchmaking.... Please be Patient\"):\n",
    "        Opti=search_biz(row['Trimed PRIMARYINSUREDNAME'])\n",
    "        create_cols(DF, index, Opti)\n",
    "    return(DF)"
   ]
  },
  {
   "cell_type": "code",
   "execution_count": 8,
   "metadata": {},
   "outputs": [],
   "source": [
    "\n",
    "def main(DF):\n",
    "    finished_chunks=[]\n",
    "    for start in range(0, len(DF), 120):\n",
    "        end=start+120\n",
    "        if end < len(DF):\n",
    "            print(f\"Rows {start} to {end}/ {len(DF)}\")\n",
    "        else: \n",
    "            print(f\"Rows {start} to {len(DF)}\")\n",
    "        chunk=DF[start:end]\n",
    "        processed_chunk=ME(chunk)\n",
    "        finished_chunks.append(processed_chunk)\n",
    "        if end < len(DF):\n",
    "            time.sleep(15)\n",
    "            \n",
    "    Final_DF=pd.concat(finished_chunks, ignore_index=True)\n",
    "    SR=Final_DF['Opti_Gov_Name'].apply(lambda x: x is not pd.NA).mean()*100\n",
    "    print(f\"Success Rate: {SR}%\")\n",
    "    return(Final_DF)        \n"
   ]
  },
  {
   "cell_type": "code",
   "execution_count": 9,
   "metadata": {},
   "outputs": [
    {
     "name": "stdout",
     "output_type": "stream",
     "text": [
      "Rows 0 to 8\n"
     ]
    },
    {
     "name": "stderr",
     "output_type": "stream",
     "text": [
      "Matchmaking.... Please be Patient: 100%|██████████| 8/8 [00:01<00:00,  6.05it/s]"
     ]
    },
    {
     "name": "stdout",
     "output_type": "stream",
     "text": [
      "Success Rate: 100.0%\n"
     ]
    },
    {
     "name": "stderr",
     "output_type": "stream",
     "text": [
      "\n"
     ]
    },
    {
     "data": {
      "text/html": [
       "<div>\n",
       "<style scoped>\n",
       "    .dataframe tbody tr th:only-of-type {\n",
       "        vertical-align: middle;\n",
       "    }\n",
       "\n",
       "    .dataframe tbody tr th {\n",
       "        vertical-align: top;\n",
       "    }\n",
       "\n",
       "    .dataframe thead th {\n",
       "        text-align: right;\n",
       "    }\n",
       "</style>\n",
       "<table border=\"1\" class=\"dataframe\">\n",
       "  <thead>\n",
       "    <tr style=\"text-align: right;\">\n",
       "      <th></th>\n",
       "      <th>Trimed PRIMARYINSUREDNAME</th>\n",
       "      <th>Opti_Gov_Name</th>\n",
       "      <th>Opti_Gov_Add</th>\n",
       "    </tr>\n",
       "  </thead>\n",
       "  <tbody>\n",
       "    <tr>\n",
       "      <th>0</th>\n",
       "      <td>ADVANCE MEDICAL DESIGNS INC</td>\n",
       "      <td>Advance Medical Designs, Inc.</td>\n",
       "      <td>CT Corporation System</td>\n",
       "    </tr>\n",
       "    <tr>\n",
       "      <th>1</th>\n",
       "      <td>ARS INC</td>\n",
       "      <td>ARS, INC.</td>\n",
       "      <td>204 CALDER WAY STE 206 B&amp;D\\r\\nPO BOX 1026, STA...</td>\n",
       "    </tr>\n",
       "    <tr>\n",
       "      <th>2</th>\n",
       "      <td>CEDAR VILLAGE TOWNHOMES LP</td>\n",
       "      <td>Cedar Village Townhomes, LP</td>\n",
       "      <td>813 MANOR DRIVE\\r\\nWHISTLEWOOD COMMONS, DUBLIN...</td>\n",
       "    </tr>\n",
       "    <tr>\n",
       "      <th>3</th>\n",
       "      <td>CMG INC</td>\n",
       "      <td>CMG, Inc.</td>\n",
       "      <td>2399 OLD LINCOLN HIGHWAY, TREVOSE, PA  19053</td>\n",
       "    </tr>\n",
       "    <tr>\n",
       "      <th>4</th>\n",
       "      <td>EAGLE CHIROPRACTIC PC</td>\n",
       "      <td>EAGLE CHIROPRACTIC, P.C.</td>\n",
       "      <td>NO 3 THE TOOMEY BUILDING                \\r\\nRO...</td>\n",
       "    </tr>\n",
       "    <tr>\n",
       "      <th>5</th>\n",
       "      <td>FARM FRESH MARKET</td>\n",
       "      <td>Farm Fresh Market of Pittsburgh Inc</td>\n",
       "      <td>226 N. NEGLEY STREET, PITTSBURGH, PA  15206</td>\n",
       "    </tr>\n",
       "    <tr>\n",
       "      <th>6</th>\n",
       "      <td>GC BUILDERS LLC</td>\n",
       "      <td>G.C. Builders, LLC</td>\n",
       "      <td>42 MACK ROAD, BANGOR, PA  18013</td>\n",
       "    </tr>\n",
       "    <tr>\n",
       "      <th>7</th>\n",
       "      <td>KIDS2 INC</td>\n",
       "      <td>Kids2, LLC</td>\n",
       "      <td>Corporation Service Company</td>\n",
       "    </tr>\n",
       "  </tbody>\n",
       "</table>\n",
       "</div>"
      ],
      "text/plain": [
       "     Trimed PRIMARYINSUREDNAME                        Opti_Gov_Name  \\\n",
       "0  ADVANCE MEDICAL DESIGNS INC        Advance Medical Designs, Inc.   \n",
       "1                      ARS INC                            ARS, INC.   \n",
       "2   CEDAR VILLAGE TOWNHOMES LP          Cedar Village Townhomes, LP   \n",
       "3                      CMG INC                            CMG, Inc.   \n",
       "4        EAGLE CHIROPRACTIC PC             EAGLE CHIROPRACTIC, P.C.   \n",
       "5            FARM FRESH MARKET  Farm Fresh Market of Pittsburgh Inc   \n",
       "6              GC BUILDERS LLC                   G.C. Builders, LLC   \n",
       "7                    KIDS2 INC                           Kids2, LLC   \n",
       "\n",
       "                                        Opti_Gov_Add  \n",
       "0                              CT Corporation System  \n",
       "1  204 CALDER WAY STE 206 B&D\\r\\nPO BOX 1026, STA...  \n",
       "2  813 MANOR DRIVE\\r\\nWHISTLEWOOD COMMONS, DUBLIN...  \n",
       "3       2399 OLD LINCOLN HIGHWAY, TREVOSE, PA  19053  \n",
       "4  NO 3 THE TOOMEY BUILDING                \\r\\nRO...  \n",
       "5        226 N. NEGLEY STREET, PITTSBURGH, PA  15206  \n",
       "6                    42 MACK ROAD, BANGOR, PA  18013  \n",
       "7                        Corporation Service Company  "
      ]
     },
     "execution_count": 9,
     "metadata": {},
     "output_type": "execute_result"
    }
   ],
   "source": [
    "#Getting the mystery samp\n",
    "#Maybe Domestic Business Corporation is a preferred Category?? Or maybe just the Domestic SubStringPr\n",
    "Prob=['ADVANCE MEDICAL DESIGNS INC',\n",
    " 'ARS INC',\n",
    " 'CEDAR VILLAGE TOWNHOMES LP',\n",
    " 'CMG INC',\n",
    " 'EAGLE CHIROPRACTIC PC',\n",
    " 'FARM FRESH MARKET',\n",
    " 'GC BUILDERS LLC',\n",
    "'KIDS2 INC'\n",
    "]\n",
    "#CMG INC is an interesting example Use as a test for how it iterates\n",
    "#KIDS2 INC is an example of the rare former name parameter from the Penn Gov Site\n",
    "\n",
    "#I think my filtering practices need to be altered. They can be made more effcient\n",
    "#It is still possible I am getting throttled\n",
    "#First plan of atta\n",
    "A=['Trimed PRIMARYINSUREDNAME']\n",
    "\n",
    "test=pd.DataFrame(Prob, columns=A)\n",
    "\n",
    "main(test)"
   ]
  },
  {
   "cell_type": "code",
   "execution_count": 10,
   "metadata": {},
   "outputs": [
    {
     "name": "stdout",
     "output_type": "stream",
     "text": [
      "14\n",
      "              Trimed PRIMARYINSUREDNAME Exist in Matching Result 2  \\\n",
      "0                               3418576                  Not Found   \n",
      "1                              0776 LLC                  Not Found   \n",
      "2                       1 STOP TRAINING                  Not Found   \n",
      "3                              100X LLC                  Not Found   \n",
      "4                   1022403 ONTARIO LTD                  Not Found   \n",
      "..                                  ...                        ...   \n",
      "495                    ATKINSON DAVID R                  Not Found   \n",
      "496         ATLANTIC BIOMEDICAL COMPANY                  Not Found   \n",
      "497  ATLANTIC CONSTRUCTION SERVICES INC                  Not Found   \n",
      "498          ATLANTIC TRAVEL CENTER LLC                  Not Found   \n",
      "499                  ATLAS ADVISORS LLC                  Not Found   \n",
      "\n",
      "    Exist in Matching Result 3  \n",
      "0                    Not Found  \n",
      "1                    Not Found  \n",
      "2                    Not Found  \n",
      "3                    Not Found  \n",
      "4                    Not Found  \n",
      "..                         ...  \n",
      "495                  Not Found  \n",
      "496                  Not Found  \n",
      "497                  Not Found  \n",
      "498                  Not Found  \n",
      "499                  Not Found  \n",
      "\n",
      "[500 rows x 3 columns]\n"
     ]
    }
   ],
   "source": [
    "#THE PLAN: Run this thing in chunk of 300\n",
    "#Make the partitions OUTSIDE of the function so that they can be saved in the event if an interuption\n",
    "\n",
    "Partitions=[]\n",
    "for start in range(0, len(MDF), 500):\n",
    "        end=start+500\n",
    "        parti=MDF[start:end]\n",
    "        Partitions.append(parti)\n",
    "print(len(Partitions))\n",
    "print(Partitions[0])\n",
    "\n",
    "Finshed=[]"
   ]
  },
  {
   "cell_type": "code",
   "execution_count": null,
   "metadata": {},
   "outputs": [
    {
     "name": "stdout",
     "output_type": "stream",
     "text": [
      "Rows 0 to 120/ 500\n"
     ]
    },
    {
     "name": "stderr",
     "output_type": "stream",
     "text": [
      "Matchmaking.... Please be Patient: 100%|██████████| 120/120 [00:24<00:00,  4.98it/s]\n"
     ]
    },
    {
     "name": "stdout",
     "output_type": "stream",
     "text": [
      "Rows 120 to 240/ 500\n"
     ]
    },
    {
     "name": "stderr",
     "output_type": "stream",
     "text": [
      "Matchmaking.... Please be Patient: 100%|██████████| 120/120 [03:35<00:00,  1.80s/it]\n"
     ]
    },
    {
     "name": "stdout",
     "output_type": "stream",
     "text": [
      "Rows 240 to 360/ 500\n"
     ]
    },
    {
     "name": "stderr",
     "output_type": "stream",
     "text": [
      "Matchmaking.... Please be Patient: 100%|██████████| 120/120 [03:07<00:00,  1.56s/it]\n"
     ]
    },
    {
     "name": "stdout",
     "output_type": "stream",
     "text": [
      "Rows 360 to 480/ 500\n"
     ]
    },
    {
     "name": "stderr",
     "output_type": "stream",
     "text": [
      "Matchmaking.... Please be Patient: 100%|██████████| 120/120 [03:06<00:00,  1.55s/it]\n"
     ]
    },
    {
     "name": "stdout",
     "output_type": "stream",
     "text": [
      "Rows 480 to 500\n"
     ]
    },
    {
     "name": "stderr",
     "output_type": "stream",
     "text": [
      "Matchmaking.... Please be Patient: 100%|██████████| 20/20 [00:19<00:00,  1.03it/s]"
     ]
    },
    {
     "name": "stdout",
     "output_type": "stream",
     "text": [
      "Success Rate: 40.2%\n"
     ]
    },
    {
     "name": "stderr",
     "output_type": "stream",
     "text": [
      "\n"
     ]
    }
   ],
   "source": [
    "#First half\n",
    "# p1=main(Partitions[0])\n",
    "# Finshed.append(p1)\n",
    "# p2=main(Partitions[1])\n",
    "# Finshed.append(p2)\n",
    "# p3=main(Partitions[2])\n",
    "# Finshed.append(p3)\n",
    "# p4=main(Partitions[3])\n",
    "# Finshed.append(p4)\n",
    "# p5=main(Partitions[4])\n",
    "# Finshed.append(p5)\n",
    "# p6=main(Partitions[5])\n",
    "# Finshed.append(p6)\n",
    "# p7=main(Partitions[6])\n",
    "# Finshed.append(p7)"
   ]
  },
  {
   "cell_type": "code",
   "execution_count": null,
   "metadata": {},
   "outputs": [],
   "source": [
    "df1 = pd.concat(Finshed)\n",
    "# saving the dataframe\n",
    "df1.to_csv('Govmatched_1.csv')\n",
    "#First half saved For posterity"
   ]
  },
  {
   "cell_type": "code",
   "execution_count": null,
   "metadata": {},
   "outputs": [
    {
     "name": "stdout",
     "output_type": "stream",
     "text": [
      "Rows 0 to 120/ 345\n"
     ]
    },
    {
     "name": "stderr",
     "output_type": "stream",
     "text": [
      "Matchmaking.... Please be Patient: 100%|██████████| 120/120 [00:21<00:00,  5.71it/s]\n"
     ]
    },
    {
     "name": "stdout",
     "output_type": "stream",
     "text": [
      "Rows 120 to 240/ 345\n"
     ]
    },
    {
     "name": "stderr",
     "output_type": "stream",
     "text": [
      "Matchmaking.... Please be Patient: 100%|██████████| 120/120 [04:41<00:00,  2.34s/it]\n"
     ]
    },
    {
     "name": "stdout",
     "output_type": "stream",
     "text": [
      "Rows 240 to 345\n"
     ]
    },
    {
     "name": "stderr",
     "output_type": "stream",
     "text": [
      "Matchmaking.... Please be Patient: 100%|██████████| 105/105 [02:29<00:00,  1.43s/it]"
     ]
    },
    {
     "name": "stdout",
     "output_type": "stream",
     "text": [
      "Success Rate: 28.405797101449277%\n"
     ]
    },
    {
     "name": "stderr",
     "output_type": "stream",
     "text": [
      "\n"
     ]
    }
   ],
   "source": [
    "# p8=main(Partitions[7])\n",
    "# Finshed.append(p8)\n",
    "# p9=main(Partitions[8])\n",
    "# Finshed.append(p9)\n",
    "# p10=main(Partitions[9])\n",
    "# Finshed.append(p10)\n",
    "# p11=main(Partitions[10])\n",
    "# Finshed.append(p11)\n",
    "# p12=main(Partitions[11])\n",
    "# Finshed.append(p12)\n",
    "# p13=main(Partitions[12])\n",
    "# Finshed.append(p13)\n",
    "# p14=main(Partitions[13])\n",
    "# Finshed.append(p14)"
   ]
  },
  {
   "cell_type": "code",
   "execution_count": null,
   "metadata": {},
   "outputs": [
    {
     "name": "stdout",
     "output_type": "stream",
     "text": [
      "6845\n",
      "6845\n"
     ]
    }
   ],
   "source": [
    "df_finished=pd.concat(Finshed)\n"
   ]
  },
  {
   "cell_type": "code",
   "execution_count": null,
   "metadata": {},
   "outputs": [],
   "source": [
    "#df_finished.to_csv('Govmatched.csv')"
   ]
  },
  {
   "cell_type": "code",
   "execution_count": 37,
   "metadata": {},
   "outputs": [
    {
     "name": "stdout",
     "output_type": "stream",
     "text": [
      "Success Rate: 38.55368882395909%\n"
     ]
    }
   ],
   "source": [
    "SR=df_finished['Opti_Gov_Name'].apply(lambda x: x is not pd.NA).mean()*100\n",
    "print(f\"Success Rate: {SR}%\")"
   ]
  }
 ],
 "metadata": {
  "kernelspec": {
   "display_name": "base",
   "language": "python",
   "name": "python3"
  },
  "language_info": {
   "codemirror_mode": {
    "name": "ipython",
    "version": 3
   },
   "file_extension": ".py",
   "mimetype": "text/x-python",
   "name": "python",
   "nbconvert_exporter": "python",
   "pygments_lexer": "ipython3",
   "version": "3.12.7"
  }
 },
 "nbformat": 4,
 "nbformat_minor": 2
}
